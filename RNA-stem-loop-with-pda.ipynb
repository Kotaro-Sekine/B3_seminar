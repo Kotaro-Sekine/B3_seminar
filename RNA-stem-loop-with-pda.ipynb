{
 "cells": [
  {
   "cell_type": "code",
   "execution_count": 1,
   "metadata": {},
   "outputs": [],
   "source": [
    "from automata.pda.dpda import DPDA\n",
    "# RNAステムループ構造解析\n",
    "# gccgaaagccなど，gaaaを間(ループ)に挟んだRNAステムループ構造の配列を入力すると正常終了,そうでなければエラーを起こす\n",
    "dpda = DPDA(\n",
    "    states={'q0', 'q1', 'q2', 'q3','q4','q5'},\n",
    "    input_symbols={'g','c','a','u'},\n",
    "    stack_symbols={'S', '1','2','3','g','c','a','u'},\n",
    "    transitions={\n",
    "        'q0': {\n",
    "            'g': {'S': ('q1', ('1','c'))},  # gが観測されたらSをpopし,g1cをpush,さらにgをpopして次の状態へ\n",
    "            'c': {'S': ('q1', ('1','g'))},\n",
    "            'a': {'S': ('q1', ('1','u'))},\n",
    "            'u': {'S': ('q1', ('1','a'))}\n",
    "        },\n",
    "        'q1': {\n",
    "            'g': {'1': ('q2', ('2','c'))}, \n",
    "            'c': {'1': ('q2', ('2','g'))},\n",
    "            'a': {'1': ('q2', ('2','u'))},\n",
    "            'u': {'1': ('q2', ('2','a'))}\n",
    "        },\n",
    "        'q2': {\n",
    "            'g': {'2': ('q3', ('3','c'))},\n",
    "            'c': {'2': ('q3', ('3','g'))},\n",
    "            'a': {'2': ('q3', ('3','u'))},\n",
    "            'u': {'2': ('q3', ('3','a'))}\n",
    "        },\n",
    "        'q3': {\n",
    "            'g': {'3': ('q4', ('a','a','a'))}  #gが観測されたらgaaaをpush,さらにgをpopし次の状態へ\n",
    "        },\n",
    "        'q4': {\n",
    "            'g': {'g': ('q4',(''))},  #gをpop\n",
    "            'c': {'c': ('q4',(''))},\n",
    "            'a': {'a': ('q4',(''))},\n",
    "            'u': {'u': ('q4',(''))},\n",
    "            '': {'S': ('q5', ('S',))}  #スタックと入力が共に空になれば正常終了\n",
    "        }\n",
    "    },\n",
    "    initial_state='q0',\n",
    "    initial_stack_symbol='S',\n",
    "    final_states={'q5'}\n",
    ")"
   ]
  },
  {
   "cell_type": "code",
   "execution_count": 2,
   "metadata": {},
   "outputs": [
    {
     "name": "stdout",
     "output_type": "stream",
     "text": [
      "accepted\n"
     ]
    }
   ],
   "source": [
    "if dpda.accepts_input('gccgaaaggc'):\n",
    "    print('accepted')\n",
    "else:\n",
    "    print('rejected')"
   ]
  },
  {
   "cell_type": "code",
   "execution_count": null,
   "metadata": {},
   "outputs": [],
   "source": []
  }
 ],
 "metadata": {
  "kernelspec": {
   "display_name": "Python 3",
   "language": "python",
   "name": "python3"
  },
  "language_info": {
   "codemirror_mode": {
    "name": "ipython",
    "version": 3
   },
   "file_extension": ".py",
   "mimetype": "text/x-python",
   "name": "python",
   "nbconvert_exporter": "python",
   "pygments_lexer": "ipython3",
   "version": "3.7.0"
  }
 },
 "nbformat": 4,
 "nbformat_minor": 2
}
