{
 "cells": [
  {
   "cell_type": "code",
   "execution_count": 18,
   "metadata": {},
   "outputs": [
    {
     "name": "stdout",
     "output_type": "stream",
     "text": [
      "->(a: 4 ,b: 3 )\n",
      "(a: 3 ,b: 2 )->\n",
      "(a: 2 ,b: 1 )->\n",
      "(a: 1 ,b: 1 )->\n",
      "(a: 1 ,b: 0 )->\n",
      "(a: 0 ,b: 0 )->\n",
      "d( 1 , 1 ): 2\n",
      "d( 1 , 2 ): 5\n",
      "d( 1 , 3 ): 12\n",
      "d( 2 , 1 ): 7\n",
      "d( 2 , 2 ): 8\n",
      "d( 2 , 3 ): 6\n",
      "d( 3 , 1 ): 15\n",
      "d( 3 , 2 ): 9\n",
      "d( 3 , 3 ): 11\n",
      "d( 4 , 1 ): 18\n",
      "d( 4 , 2 ): 15\n",
      "d( 4 , 3 ): 13\n"
     ]
    }
   ],
   "source": [
    "c=[[2,5,8,3],[3,6,2,6],[7,1,5,4]]\n",
    "d=[[0,0,0,0],[0,0,0,0],[0,0,0,0]]\n",
    "\n",
    "d[0][0]=c[0][0]\n",
    "\n",
    "for j in range(1,3):\n",
    "    d[j][0]=d[j-1][0]+c[j][0]\n",
    "    \n",
    "for i in range(1,4):\n",
    "    d[0][i]=d[0][i-1]+c[0][i]\n",
    "    \n",
    "    for j in range(1,3):\n",
    "        d[j][i]=min(d[j-1][i-1],d[j][i-1],d[j-1][i])+c[j][i]\n",
    "\n",
    "   \n",
    "\n",
    "n=3\n",
    "m=2\n",
    "print('->(a:',n+1,',b:',m+1,')') \n",
    "while n>=0 and m>=0:\n",
    "        if min(d[m-1][n-1],d[m][n-1],d[m-1][n])==d[m-1][n-1]:\n",
    "            print('(a:',n,',b:',m,')->')\n",
    "            m=m-1\n",
    "            n=n-1\n",
    "        elif min(d[m-1][n-1],d[m][n-1],d[m-1][n])==d[m][n-1]:\n",
    "            print('(a:',n,',b:',m+1,')->')\n",
    "            m=m\n",
    "            n=n-1\n",
    "        elif min(d[m-1][n-1],d[m][n-1],d[m-1][n])==d[m-1][n]:\n",
    "            print('(a:',n+1,',b:',m,')->')\n",
    "            m=m-1\n",
    "            n=n\n",
    "        #print('d(',j+1,',',i+1,'):',d[j][i])\n",
    "print('(a:',0,',b:',0,')->')\n",
    "        \n",
    "for i in range(0,4):\n",
    "    for j in range(0,3):\n",
    "        print('d(',i+1,',',j+1,'):',d[j][i])\n",
    "             "
   ]
  },
  {
   "cell_type": "code",
   "execution_count": null,
   "metadata": {},
   "outputs": [],
   "source": []
  }
 ],
 "metadata": {
  "kernelspec": {
   "display_name": "Python 3",
   "language": "python",
   "name": "python3"
  },
  "language_info": {
   "codemirror_mode": {
    "name": "ipython",
    "version": 3
   },
   "file_extension": ".py",
   "mimetype": "text/x-python",
   "name": "python",
   "nbconvert_exporter": "python",
   "pygments_lexer": "ipython3",
   "version": "3.7.0"
  }
 },
 "nbformat": 4,
 "nbformat_minor": 2
}
